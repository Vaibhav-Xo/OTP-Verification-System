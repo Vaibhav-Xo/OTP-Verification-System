{
 "cells": [
  {
   "cell_type": "code",
   "execution_count": 1,
   "id": "482003ee-d159-40b9-8092-68c2bf34dc58",
   "metadata": {},
   "outputs": [],
   "source": [
    "import random #provides a set of functions for generating random numbers\n",
    "import smtplib #provides a simple interface for sending email messages from your Python scripts it allows you to connect to an SMTP server, and send email messages programmatically\n",
    "from email.message import EmailMessage #provides a convenient way to create and manipulate email messages.                                        \n",
    "import warnings #controls weather warnings are ignored or display\n",
    "warnings.filterwarnings('ignore')"
   ]
  },
  {
   "cell_type": "code",
   "execution_count": 2,
   "id": "8709ba85-1989-4204-84b1-b3df249cc068",
   "metadata": {},
   "outputs": [],
   "source": [
    "\n",
    "\n",
    "\n",
    "def otp_verification():  \n",
    "    #creating connection between server and sender\n",
    "    def connection():\n",
    "        global server\n",
    "        server = smtplib.SMTP('smtp.gmail.com', 587) #this method creates the smtp server   \n",
    "        server.starttls() #this method starts transfer layer security protocol and encrypt communication betwn sender email and server\n",
    "        \n",
    "        global sender_email\n",
    "        sender_email= 'XXXXXXXXXXXX@XXXX.XXX' #Host Company Email ID : through this address the user will receive otp\n",
    "        sender_password= 'XXX_XXXX_XXXX_XX' # Company Passkey \n",
    "        server.login(sender_email,sender_password) #this method connects host to the server\n",
    "    \n",
    "    connection()\n",
    "    \n",
    "    #this func will take user mail as input and vildate the input\n",
    "    def enter_email():\n",
    "        global receiver_email\n",
    "        receiver_email= input('Please enter your email for verification') # asking user to enter their email\n",
    "        address= ['@gmail','@yahooo','@outlook','@hotmail'] #user can have email of any of this four services\n",
    "        domain= ['.com','.in','.org','.edu','.co.in'] #user can have email address ending with any of this four domain\n",
    "\n",
    "        #validating email address..checking if domain and address name is correct \n",
    "        check=0\n",
    "        for i in address:\n",
    "            if i in receiver_email:\n",
    "                    check+=1\n",
    "        for i in domain:\n",
    "            if i in receiver_email:\n",
    "                    check+=1\n",
    "        if check!=2:\n",
    "            print('wrong email!! check your address or domain')\n",
    "            return enter_email()\n",
    "        else: \n",
    "          return receiver_email\n",
    "    \n",
    "    enter_email()\n",
    "\n",
    "    # this func will generate random 6 digit otp\n",
    "    def generate_otp():\n",
    "        global otp\n",
    "        otp= random.randint(100000,999999)\n",
    "        return otp\n",
    "    \n",
    "    generate_otp()\n",
    "\n",
    "    #this func is sending otp to user\n",
    "    def send_otp():\n",
    "        msg= EmailMessage() #with the help of this class we create template of the email\n",
    "        msg['Subject']= 'Security code for verification' # subject of email\n",
    "        msg['From']= sender_email # sender email id\n",
    "        msg['To']= receiver_email # reciever email id\n",
    "        msg.set_content(str(otp)) #set_content: this method of EmailMessage class create body of email\n",
    "        \n",
    "        server.send_message(msg)#send_message: with this method of smptlib module we send the otp to user from the host\n",
    "        print('OTP sent...Please check your email!')\n",
    "    \n",
    "    send_otp()\n",
    "\n",
    "    #this func takes user otp and validates it and grants access to user\n",
    "    def verify_otp():\n",
    "        flag= 3\n",
    "        for i in range(3): #this will provide user 3 attempts to validate otp in case user input incorrect otp by mistake\n",
    "          OTP= int(input('Plese enter otp for verification ')) # asking user for otp\n",
    "          if OTP==otp: #matching user otp with actual genrated otp\n",
    "            print('Verfication Successfull!!, Access Granted')\n",
    "            break \n",
    "          else: \n",
    "            flag-=1 #remaining tries\n",
    "            print(f'Wrong OTP!!! {flag} chances remaining') #in case otp entered is incorrect..asking user to enter otp again \n",
    "            if flag==0:\n",
    "              print('Timeout!!! Access Denied...Try after some time') #deniying validation after 3 incoorect attempt..user can retry\n",
    "        return None\n",
    "    \n",
    "    verify_otp()\n"
   ]
  },
  {
   "cell_type": "code",
   "execution_count": 3,
   "id": "4aa63099-c06b-47af-89d1-83bf63b08e72",
   "metadata": {},
   "outputs": [
    {
     "name": "stdin",
     "output_type": "stream",
     "text": [
      "Please enter your email for verification  hghgsjdg\n"
     ]
    },
    {
     "name": "stdout",
     "output_type": "stream",
     "text": [
      "wrong email!! check your address or domain\n"
     ]
    },
    {
     "name": "stdin",
     "output_type": "stream",
     "text": [
      "Please enter your email for verification  vaibhavpg4807@gmail.com\n"
     ]
    },
    {
     "name": "stdout",
     "output_type": "stream",
     "text": [
      "OTP sent...Please check your email!\n"
     ]
    },
    {
     "name": "stdin",
     "output_type": "stream",
     "text": [
      "Plese enter otp for verification  652818\n"
     ]
    },
    {
     "name": "stdout",
     "output_type": "stream",
     "text": [
      "Verfication Successfull!!, Access Granted\n"
     ]
    }
   ],
   "source": [
    "# creating instance of function\n",
    "test= otp_verification()\n",
    "test"
   ]
  },
  {
   "cell_type": "code",
   "execution_count": null,
   "id": "c3a1244a-52fc-4df1-a29f-e402241189d1",
   "metadata": {},
   "outputs": [],
   "source": []
  }
 ],
 "metadata": {
  "kernelspec": {
   "display_name": "Python 3 (ipykernel)",
   "language": "python",
   "name": "python3"
  },
  "language_info": {
   "codemirror_mode": {
    "name": "ipython",
    "version": 3
   },
   "file_extension": ".py",
   "mimetype": "text/x-python",
   "name": "python",
   "nbconvert_exporter": "python",
   "pygments_lexer": "ipython3",
   "version": "3.11.7"
  }
 },
 "nbformat": 4,
 "nbformat_minor": 5
}
